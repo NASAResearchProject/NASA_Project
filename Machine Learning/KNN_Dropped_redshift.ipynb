{
 "cells": [
  {
   "cell_type": "code",
   "execution_count": 1,
   "metadata": {},
   "outputs": [
    {
     "data": {
      "text/html": [
       "<div>\n",
       "<style scoped>\n",
       "    .dataframe tbody tr th:only-of-type {\n",
       "        vertical-align: middle;\n",
       "    }\n",
       "\n",
       "    .dataframe tbody tr th {\n",
       "        vertical-align: top;\n",
       "    }\n",
       "\n",
       "    .dataframe thead th {\n",
       "        text-align: right;\n",
       "    }\n",
       "</style>\n",
       "<table border=\"1\" class=\"dataframe\">\n",
       "  <thead>\n",
       "    <tr style=\"text-align: right;\">\n",
       "      <th></th>\n",
       "      <th>class_</th>\n",
       "      <th>u_</th>\n",
       "      <th>g_</th>\n",
       "      <th>r_</th>\n",
       "      <th>i_</th>\n",
       "      <th>z_</th>\n",
       "      <th>redshift_</th>\n",
       "    </tr>\n",
       "  </thead>\n",
       "  <tbody>\n",
       "    <tr>\n",
       "      <th>0</th>\n",
       "      <td>2</td>\n",
       "      <td>-1.067720</td>\n",
       "      <td>-1.123867</td>\n",
       "      <td>-0.878764</td>\n",
       "      <td>-0.036867</td>\n",
       "      <td>-0.558164</td>\n",
       "      <td>-0.713568</td>\n",
       "    </tr>\n",
       "    <tr>\n",
       "      <th>1</th>\n",
       "      <td>2</td>\n",
       "      <td>-0.030126</td>\n",
       "      <td>-0.487516</td>\n",
       "      <td>-0.660599</td>\n",
       "      <td>-0.035391</td>\n",
       "      <td>-0.668300</td>\n",
       "      <td>-0.713270</td>\n",
       "    </tr>\n",
       "    <tr>\n",
       "      <th>2</th>\n",
       "      <td>2</td>\n",
       "      <td>-0.429575</td>\n",
       "      <td>-0.452186</td>\n",
       "      <td>-0.317882</td>\n",
       "      <td>-0.009295</td>\n",
       "      <td>-0.131955</td>\n",
       "      <td>-0.713123</td>\n",
       "    </tr>\n",
       "    <tr>\n",
       "      <th>3</th>\n",
       "      <td>2</td>\n",
       "      <td>0.489953</td>\n",
       "      <td>0.523653</td>\n",
       "      <td>0.409810</td>\n",
       "      <td>0.026467</td>\n",
       "      <td>0.430269</td>\n",
       "      <td>-0.713607</td>\n",
       "    </tr>\n",
       "    <tr>\n",
       "      <th>4</th>\n",
       "      <td>2</td>\n",
       "      <td>-1.644429</td>\n",
       "      <td>-1.964525</td>\n",
       "      <td>-2.027211</td>\n",
       "      <td>-0.111112</td>\n",
       "      <td>-1.892926</td>\n",
       "      <td>-0.713444</td>\n",
       "    </tr>\n",
       "  </tbody>\n",
       "</table>\n",
       "</div>"
      ],
      "text/plain": [
       "   class_        u_        g_        r_        i_        z_  redshift_\n",
       "0       2 -1.067720 -1.123867 -0.878764 -0.036867 -0.558164  -0.713568\n",
       "1       2 -0.030126 -0.487516 -0.660599 -0.035391 -0.668300  -0.713270\n",
       "2       2 -0.429575 -0.452186 -0.317882 -0.009295 -0.131955  -0.713123\n",
       "3       2  0.489953  0.523653  0.409810  0.026467  0.430269  -0.713607\n",
       "4       2 -1.644429 -1.964525 -2.027211 -0.111112 -1.892926  -0.713444"
      ]
     },
     "execution_count": 1,
     "metadata": {},
     "output_type": "execute_result"
    }
   ],
   "source": [
    "import pandas as pd\n",
    "import numpy as np\n",
    "from sklearn.neighbors import KNeighborsClassifier as KNC\n",
    "import matplotlib.pyplot as plt\n",
    "plt.style.use('ggplot')\n",
    "\n",
    "# import dataset\n",
    "DR_df = pd.read_csv(\"../Resources/DR_complete_clean.csv\")\n",
    "DR_df.head()"
   ]
  },
  {
   "cell_type": "code",
   "execution_count": 2,
   "metadata": {},
   "outputs": [
    {
     "data": {
      "text/html": [
       "<div>\n",
       "<style scoped>\n",
       "    .dataframe tbody tr th:only-of-type {\n",
       "        vertical-align: middle;\n",
       "    }\n",
       "\n",
       "    .dataframe tbody tr th {\n",
       "        vertical-align: top;\n",
       "    }\n",
       "\n",
       "    .dataframe thead th {\n",
       "        text-align: right;\n",
       "    }\n",
       "</style>\n",
       "<table border=\"1\" class=\"dataframe\">\n",
       "  <thead>\n",
       "    <tr style=\"text-align: right;\">\n",
       "      <th></th>\n",
       "      <th>class_</th>\n",
       "      <th>u_</th>\n",
       "      <th>g_</th>\n",
       "      <th>r_</th>\n",
       "      <th>i_</th>\n",
       "      <th>z_</th>\n",
       "    </tr>\n",
       "  </thead>\n",
       "  <tbody>\n",
       "    <tr>\n",
       "      <th>0</th>\n",
       "      <td>2</td>\n",
       "      <td>-1.067720</td>\n",
       "      <td>-1.123867</td>\n",
       "      <td>-0.878764</td>\n",
       "      <td>-0.036867</td>\n",
       "      <td>-0.558164</td>\n",
       "    </tr>\n",
       "    <tr>\n",
       "      <th>1</th>\n",
       "      <td>2</td>\n",
       "      <td>-0.030126</td>\n",
       "      <td>-0.487516</td>\n",
       "      <td>-0.660599</td>\n",
       "      <td>-0.035391</td>\n",
       "      <td>-0.668300</td>\n",
       "    </tr>\n",
       "    <tr>\n",
       "      <th>2</th>\n",
       "      <td>2</td>\n",
       "      <td>-0.429575</td>\n",
       "      <td>-0.452186</td>\n",
       "      <td>-0.317882</td>\n",
       "      <td>-0.009295</td>\n",
       "      <td>-0.131955</td>\n",
       "    </tr>\n",
       "    <tr>\n",
       "      <th>3</th>\n",
       "      <td>2</td>\n",
       "      <td>0.489953</td>\n",
       "      <td>0.523653</td>\n",
       "      <td>0.409810</td>\n",
       "      <td>0.026467</td>\n",
       "      <td>0.430269</td>\n",
       "    </tr>\n",
       "    <tr>\n",
       "      <th>4</th>\n",
       "      <td>2</td>\n",
       "      <td>-1.644429</td>\n",
       "      <td>-1.964525</td>\n",
       "      <td>-2.027211</td>\n",
       "      <td>-0.111112</td>\n",
       "      <td>-1.892926</td>\n",
       "    </tr>\n",
       "  </tbody>\n",
       "</table>\n",
       "</div>"
      ],
      "text/plain": [
       "   class_        u_        g_        r_        i_        z_\n",
       "0       2 -1.067720 -1.123867 -0.878764 -0.036867 -0.558164\n",
       "1       2 -0.030126 -0.487516 -0.660599 -0.035391 -0.668300\n",
       "2       2 -0.429575 -0.452186 -0.317882 -0.009295 -0.131955\n",
       "3       2  0.489953  0.523653  0.409810  0.026467  0.430269\n",
       "4       2 -1.644429 -1.964525 -2.027211 -0.111112 -1.892926"
      ]
     },
     "execution_count": 2,
     "metadata": {},
     "output_type": "execute_result"
    }
   ],
   "source": [
    "# Dropping 'redshift_' column\n",
    "DR_df = DR_df.drop(\"redshift_\", axis=1)\n",
    "\n",
    "DR_df.head()"
   ]
  },
  {
   "cell_type": "code",
   "execution_count": 3,
   "metadata": {},
   "outputs": [],
   "source": [
    "X = DR_df.drop('class_', axis=1) # independent features\n",
    "y = DR_df['class_'] # Target"
   ]
  },
  {
   "cell_type": "code",
   "execution_count": 4,
   "metadata": {},
   "outputs": [],
   "source": [
    "from sklearn.model_selection import train_test_split\n",
    "X_train, X_test, y_train, y_test = train_test_split(X, y, test_size=0.3, random_state=21, stratify=y)"
   ]
  },
  {
   "cell_type": "code",
   "execution_count": 5,
   "metadata": {},
   "outputs": [
    {
     "data": {
      "image/png": "[encoded data removed]",
      "text/plain": [
       "<Figure size 432x288 with 1 Axes>"
      ]
     },
     "metadata": {},
     "output_type": "display_data"
    }
   ],
   "source": [
    "# Setup arrays to store train and test accuracies\n",
    "neighbors = np.arange(1, 11)\n",
    "train_accuracy = np.empty(len(neighbors))\n",
    "test_accuracy = np.empty(len(neighbors))\n",
    "\n",
    "# Loop over different values of k\n",
    "for i, k in enumerate(neighbors):\n",
    "    # Setup a k-NN Classifier with k neighbors: knn\n",
    "    knn = KNC(n_neighbors=k)\n",
    "\n",
    "    # Fit the classifier to the training data\n",
    "    knn.fit(X_train, y_train)\n",
    "    \n",
    "    #Compute accuracy on the training set\n",
    "    train_accuracy[i] = knn.score(X_train, y_train)\n",
    "\n",
    "    #Compute accuracy on the testing set\n",
    "    test_accuracy[i] = knn.score(X_test, y_test)\n",
    "\n",
    "# Generate plot\n",
    "plt.title('k-NN: Varying Number of Neighbors')\n",
    "plt.plot(neighbors, test_accuracy, label = 'Testing Accuracy')\n",
    "plt.plot(neighbors, train_accuracy, label = 'Training Accuracy')\n",
    "plt.legend()\n",
    "plt.xlabel('Number of Neighbors')\n",
    "plt.ylabel('Accuracy')\n",
    "plt.show()"
   ]
  },
  {
   "cell_type": "code",
   "execution_count": 6,
   "metadata": {},
   "outputs": [
    {
     "name": "stdout",
     "output_type": "stream",
     "text": [
      "Test set predictions:\n",
      "[1 0 1 ... 1 2 0]\n"
     ]
    }
   ],
   "source": [
    "knn = KNC(n_neighbors = 8)\n",
    "knn.fit(X_train, y_train)\n",
    "\n",
    "y_pred = knn.predict(X_test)\n",
    "print(\"Test set predictions:\\n{}\".format(y_pred))"
   ]
  },
  {
   "cell_type": "code",
   "execution_count": 7,
   "metadata": {},
   "outputs": [
    {
     "name": "stdout",
     "output_type": "stream",
     "text": [
      "Accuracy = Fraction of correct predictions\n",
      "Test set accuracy:\n",
      "0.8756631708821715\n"
     ]
    }
   ],
   "source": [
    "# Accuracy score\n",
    "score = knn.score(X_test, y_test)\n",
    "print(\"Accuracy = Fraction of correct predictions\")\n",
    "print(\"Test set accuracy:\\n{}\".format(score))"
   ]
  }
 ],
 "metadata": {
  "kernelspec": {
   "display_name": "Python 3",
   "language": "python",
   "name": "python3"
  },
  "language_info": {
   "codemirror_mode": {
    "name": "ipython",
    "version": 3
   },
   "file_extension": ".py",
   "mimetype": "text/x-python",
   "name": "python",
   "nbconvert_exporter": "python",
   "pygments_lexer": "ipython3",
   "version": "3.8.5"
  }
 },
 "nbformat": 4,
 "nbformat_minor": 4
}
