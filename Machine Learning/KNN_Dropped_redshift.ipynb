{
 "cells": [
  {
   "cell_type": "code",
   "execution_count": 1,
   "metadata": {},
   "outputs": [
    {
     "data": {
      "text/html": [
       "<div>\n",
       "<style scoped>\n",
       "    .dataframe tbody tr th:only-of-type {\n",
       "        vertical-align: middle;\n",
       "    }\n",
       "\n",
       "    .dataframe tbody tr th {\n",
       "        vertical-align: top;\n",
       "    }\n",
       "\n",
       "    .dataframe thead th {\n",
       "        text-align: right;\n",
       "    }\n",
       "</style>\n",
       "<table border=\"1\" class=\"dataframe\">\n",
       "  <thead>\n",
       "    <tr style=\"text-align: right;\">\n",
       "      <th></th>\n",
       "      <th>class_</th>\n",
       "      <th>u_</th>\n",
       "      <th>g_</th>\n",
       "      <th>r_</th>\n",
       "      <th>i_</th>\n",
       "      <th>z_</th>\n",
       "      <th>redshift_</th>\n",
       "    </tr>\n",
       "  </thead>\n",
       "  <tbody>\n",
       "    <tr>\n",
       "      <th>0</th>\n",
       "      <td>2</td>\n",
       "      <td>19.19619</td>\n",
       "      <td>17.83329</td>\n",
       "      <td>17.52225</td>\n",
       "      <td>17.40237</td>\n",
       "      <td>17.35182</td>\n",
       "      <td>-0.000220</td>\n",
       "    </tr>\n",
       "    <tr>\n",
       "      <th>1</th>\n",
       "      <td>2</td>\n",
       "      <td>21.65541</td>\n",
       "      <td>19.13715</td>\n",
       "      <td>17.92577</td>\n",
       "      <td>17.44741</td>\n",
       "      <td>17.15818</td>\n",
       "      <td>-0.000008</td>\n",
       "    </tr>\n",
       "    <tr>\n",
       "      <th>2</th>\n",
       "      <td>2</td>\n",
       "      <td>20.70867</td>\n",
       "      <td>19.20954</td>\n",
       "      <td>18.55966</td>\n",
       "      <td>18.24395</td>\n",
       "      <td>18.10117</td>\n",
       "      <td>0.000096</td>\n",
       "    </tr>\n",
       "    <tr>\n",
       "      <th>3</th>\n",
       "      <td>2</td>\n",
       "      <td>22.88806</td>\n",
       "      <td>21.20900</td>\n",
       "      <td>19.90560</td>\n",
       "      <td>19.33555</td>\n",
       "      <td>19.08966</td>\n",
       "      <td>-0.000247</td>\n",
       "    </tr>\n",
       "    <tr>\n",
       "      <th>4</th>\n",
       "      <td>2</td>\n",
       "      <td>17.82932</td>\n",
       "      <td>16.11081</td>\n",
       "      <td>15.39808</td>\n",
       "      <td>15.13612</td>\n",
       "      <td>15.00507</td>\n",
       "      <td>-0.000131</td>\n",
       "    </tr>\n",
       "  </tbody>\n",
       "</table>\n",
       "</div>"
      ],
      "text/plain": [
       "   class_        u_        g_        r_        i_        z_  redshift_\n",
       "0       2  19.19619  17.83329  17.52225  17.40237  17.35182  -0.000220\n",
       "1       2  21.65541  19.13715  17.92577  17.44741  17.15818  -0.000008\n",
       "2       2  20.70867  19.20954  18.55966  18.24395  18.10117   0.000096\n",
       "3       2  22.88806  21.20900  19.90560  19.33555  19.08966  -0.000247\n",
       "4       2  17.82932  16.11081  15.39808  15.13612  15.00507  -0.000131"
      ]
     },
     "execution_count": 1,
     "metadata": {},
     "output_type": "execute_result"
    }
   ],
   "source": [
    "import pandas as pd\n",
    "import numpy as np\n",
    "from sklearn.neighbors import KNeighborsClassifier as KNC\n",
    "import matplotlib.pyplot as plt\n",
    "plt.style.use('ggplot')\n",
    "\n",
    "# import dataset\n",
    "DR_df = pd.read_csv(\"../Resources/DR_complete_clean.csv\")\n",
    "DR_df.head()"
   ]
  },
  {
   "cell_type": "code",
   "execution_count": 2,
   "metadata": {},
   "outputs": [
    {
     "data": {
      "text/html": [
       "<div>\n",
       "<style scoped>\n",
       "    .dataframe tbody tr th:only-of-type {\n",
       "        vertical-align: middle;\n",
       "    }\n",
       "\n",
       "    .dataframe tbody tr th {\n",
       "        vertical-align: top;\n",
       "    }\n",
       "\n",
       "    .dataframe thead th {\n",
       "        text-align: right;\n",
       "    }\n",
       "</style>\n",
       "<table border=\"1\" class=\"dataframe\">\n",
       "  <thead>\n",
       "    <tr style=\"text-align: right;\">\n",
       "      <th></th>\n",
       "      <th>class_</th>\n",
       "      <th>u_</th>\n",
       "      <th>g_</th>\n",
       "      <th>r_</th>\n",
       "      <th>i_</th>\n",
       "      <th>z_</th>\n",
       "    </tr>\n",
       "  </thead>\n",
       "  <tbody>\n",
       "    <tr>\n",
       "      <th>0</th>\n",
       "      <td>2</td>\n",
       "      <td>19.19619</td>\n",
       "      <td>17.83329</td>\n",
       "      <td>17.52225</td>\n",
       "      <td>17.40237</td>\n",
       "      <td>17.35182</td>\n",
       "    </tr>\n",
       "    <tr>\n",
       "      <th>1</th>\n",
       "      <td>2</td>\n",
       "      <td>21.65541</td>\n",
       "      <td>19.13715</td>\n",
       "      <td>17.92577</td>\n",
       "      <td>17.44741</td>\n",
       "      <td>17.15818</td>\n",
       "    </tr>\n",
       "    <tr>\n",
       "      <th>2</th>\n",
       "      <td>2</td>\n",
       "      <td>20.70867</td>\n",
       "      <td>19.20954</td>\n",
       "      <td>18.55966</td>\n",
       "      <td>18.24395</td>\n",
       "      <td>18.10117</td>\n",
       "    </tr>\n",
       "    <tr>\n",
       "      <th>3</th>\n",
       "      <td>2</td>\n",
       "      <td>22.88806</td>\n",
       "      <td>21.20900</td>\n",
       "      <td>19.90560</td>\n",
       "      <td>19.33555</td>\n",
       "      <td>19.08966</td>\n",
       "    </tr>\n",
       "    <tr>\n",
       "      <th>4</th>\n",
       "      <td>2</td>\n",
       "      <td>17.82932</td>\n",
       "      <td>16.11081</td>\n",
       "      <td>15.39808</td>\n",
       "      <td>15.13612</td>\n",
       "      <td>15.00507</td>\n",
       "    </tr>\n",
       "  </tbody>\n",
       "</table>\n",
       "</div>"
      ],
      "text/plain": [
       "   class_        u_        g_        r_        i_        z_\n",
       "0       2  19.19619  17.83329  17.52225  17.40237  17.35182\n",
       "1       2  21.65541  19.13715  17.92577  17.44741  17.15818\n",
       "2       2  20.70867  19.20954  18.55966  18.24395  18.10117\n",
       "3       2  22.88806  21.20900  19.90560  19.33555  19.08966\n",
       "4       2  17.82932  16.11081  15.39808  15.13612  15.00507"
      ]
     },
     "execution_count": 2,
     "metadata": {},
     "output_type": "execute_result"
    }
   ],
   "source": [
    "# Dropping 'redshift_' column\n",
    "DR_df = DR_df.drop(\"redshift_\", axis=1)\n",
    "\n",
    "DR_df.head()"
   ]
  },
  {
   "cell_type": "code",
   "execution_count": 3,
   "metadata": {},
   "outputs": [],
   "source": [
    "X = DR_df.drop('class_', axis=1) # independent features\n",
    "y = DR_df['class_'] # Target"
   ]
  },
  {
   "cell_type": "code",
   "execution_count": 4,
   "metadata": {},
   "outputs": [],
   "source": [
    "from sklearn.model_selection import train_test_split\n",
    "X_train, X_test, y_train, y_test = train_test_split(X, y, test_size=0.3, random_state=21, stratify=y)"
   ]
  },
  {
   "cell_type": "code",
   "execution_count": 5,
   "metadata": {},
   "outputs": [
    {
     "data": {
      "image/png": "[encoded data removed]",
      "text/plain": [
       "<Figure size 432x288 with 1 Axes>"
      ]
     },
     "metadata": {},
     "output_type": "display_data"
    }
   ],
   "source": [
    "# Setup arrays to store train and test accuracies\n",
    "neighbors = np.arange(1, 11)\n",
    "train_accuracy = np.empty(len(neighbors))\n",
    "test_accuracy = np.empty(len(neighbors))\n",
    "\n",
    "# Loop over different values of k\n",
    "for i, k in enumerate(neighbors):\n",
    "    # Setup a k-NN Classifier with k neighbors: knn\n",
    "    knn = KNC(n_neighbors=k)\n",
    "\n",
    "    # Fit the classifier to the training data\n",
    "    knn.fit(X_train, y_train)\n",
    "    \n",
    "    #Compute accuracy on the training set\n",
    "    train_accuracy[i] = knn.score(X_train, y_train)\n",
    "\n",
    "    #Compute accuracy on the testing set\n",
    "    test_accuracy[i] = knn.score(X_test, y_test)\n",
    "\n",
    "# Generate plot\n",
    "plt.title('k-NN: Varying Number of Neighbors')\n",
    "plt.plot(neighbors, test_accuracy, label = 'Testing Accuracy')\n",
    "plt.plot(neighbors, train_accuracy, label = 'Training Accuracy')\n",
    "plt.legend()\n",
    "plt.xlabel('Number of Neighbors')\n",
    "plt.ylabel('Accuracy')\n",
    "plt.show()"
   ]
  },
  {
   "cell_type": "code",
   "execution_count": 6,
   "metadata": {},
   "outputs": [],
   "source": [
    "# Fitting the model\n",
    "knn = KNC(n_neighbors = 8)\n",
    "knn.fit(X_train, y_train)\n",
    "y_pred = knn.predict(X_test)"
   ]
  },
  {
   "cell_type": "markdown",
   "metadata": {},
   "source": [
    "## Assessing the Model"
   ]
  },
  {
   "cell_type": "code",
   "execution_count": 7,
   "metadata": {},
   "outputs": [
    {
     "name": "stdout",
     "output_type": "stream",
     "text": [
      "Accuracy = Fraction of correct predictions\n",
      "Test set accuracy:\n",
      "0.876835286859963\n"
     ]
    }
   ],
   "source": [
    "# Accuracy score\n",
    "score = knn.score(X_test, y_test)\n",
    "print(\"Accuracy = Fraction of correct predictions\")\n",
    "print(\"Test set accuracy:\\n{}\".format(score))"
   ]
  },
  {
   "cell_type": "code",
   "execution_count": 8,
   "metadata": {},
   "outputs": [
    {
     "name": "stdout",
     "output_type": "stream",
     "text": [
      "[[19181   383   490]\n",
      " [  700  3842   497]\n",
      " [ 1229   694  5404]]\n"
     ]
    }
   ],
   "source": [
    "# Computing Confusion Matrix\n",
    "from sklearn.metrics import confusion_matrix\n",
    "\n",
    "print(confusion_matrix(y_test, y_pred))"
   ]
  },
  {
   "cell_type": "code",
   "execution_count": 9,
   "metadata": {},
   "outputs": [
    {
     "name": "stdout",
     "output_type": "stream",
     "text": [
      "              precision    recall  f1-score   support\n",
      "\n",
      "           0       0.91      0.96      0.93     20054\n",
      "           1       0.78      0.76      0.77      5039\n",
      "           2       0.85      0.74      0.79      7327\n",
      "\n",
      "    accuracy                           0.88     32420\n",
      "   macro avg       0.85      0.82      0.83     32420\n",
      "weighted avg       0.87      0.88      0.87     32420\n",
      "\n"
     ]
    }
   ],
   "source": [
    "from sklearn.metrics import classification_report\n",
    "print(classification_report(y_test, y_pred))"
   ]
  },
  {
   "cell_type": "code",
   "execution_count": 10,
   "metadata": {},
   "outputs": [
    {
     "data": {
      "text/html": [
       "<div>\n",
       "<style scoped>\n",
       "    .dataframe tbody tr th:only-of-type {\n",
       "        vertical-align: middle;\n",
       "    }\n",
       "\n",
       "    .dataframe tbody tr th {\n",
       "        vertical-align: top;\n",
       "    }\n",
       "\n",
       "    .dataframe thead th {\n",
       "        text-align: right;\n",
       "    }\n",
       "</style>\n",
       "<table border=\"1\" class=\"dataframe\">\n",
       "  <thead>\n",
       "    <tr style=\"text-align: right;\">\n",
       "      <th></th>\n",
       "      <th>class_</th>\n",
       "      <th>u_</th>\n",
       "      <th>g_</th>\n",
       "      <th>r_</th>\n",
       "      <th>i_</th>\n",
       "      <th>z_</th>\n",
       "    </tr>\n",
       "  </thead>\n",
       "  <tbody>\n",
       "    <tr>\n",
       "      <th>0</th>\n",
       "      <td>2</td>\n",
       "      <td>0.421106</td>\n",
       "      <td>0.413640</td>\n",
       "      <td>0.401527</td>\n",
       "      <td>0.998689</td>\n",
       "      <td>0.425911</td>\n",
       "    </tr>\n",
       "    <tr>\n",
       "      <th>1</th>\n",
       "      <td>2</td>\n",
       "      <td>0.543768</td>\n",
       "      <td>0.480139</td>\n",
       "      <td>0.420240</td>\n",
       "      <td>0.998693</td>\n",
       "      <td>0.416062</td>\n",
       "    </tr>\n",
       "    <tr>\n",
       "      <th>2</th>\n",
       "      <td>2</td>\n",
       "      <td>0.496546</td>\n",
       "      <td>0.483831</td>\n",
       "      <td>0.449635</td>\n",
       "      <td>0.998773</td>\n",
       "      <td>0.464025</td>\n",
       "    </tr>\n",
       "    <tr>\n",
       "      <th>3</th>\n",
       "      <td>2</td>\n",
       "      <td>0.605251</td>\n",
       "      <td>0.585806</td>\n",
       "      <td>0.512051</td>\n",
       "      <td>0.998881</td>\n",
       "      <td>0.514302</td>\n",
       "    </tr>\n",
       "    <tr>\n",
       "      <th>4</th>\n",
       "      <td>2</td>\n",
       "      <td>0.352929</td>\n",
       "      <td>0.325790</td>\n",
       "      <td>0.303021</td>\n",
       "      <td>0.998463</td>\n",
       "      <td>0.306550</td>\n",
       "    </tr>\n",
       "  </tbody>\n",
       "</table>\n",
       "</div>"
      ],
      "text/plain": [
       "   class_        u_        g_        r_        i_        z_\n",
       "0       2  0.421106  0.413640  0.401527  0.998689  0.425911\n",
       "1       2  0.543768  0.480139  0.420240  0.998693  0.416062\n",
       "2       2  0.496546  0.483831  0.449635  0.998773  0.464025\n",
       "3       2  0.605251  0.585806  0.512051  0.998881  0.514302\n",
       "4       2  0.352929  0.325790  0.303021  0.998463  0.306550"
      ]
     },
     "execution_count": 10,
     "metadata": {},
     "output_type": "execute_result"
    }
   ],
   "source": [
    "from sklearn.preprocessing import MinMaxScaler\n",
    "\n",
    "# Scale only columns that have values greater than 1\n",
    "to_scale = [col for col in DR_df.columns if DR_df[col].max() > 1]\n",
    "mms = MinMaxScaler()\n",
    "scaled = mms.fit_transform(DR_df[to_scale])\n",
    "scaled = pd.DataFrame(scaled, columns=to_scale)\n",
    "\n",
    "# Replace original columns with scaled ones\n",
    "for col in scaled:\n",
    "    if(col != 'class_'):\n",
    "        DR_df[col] = scaled[col]\n",
    "    \n",
    "DR_df.head()"
   ]
  },
  {
   "cell_type": "code",
   "execution_count": 11,
   "metadata": {},
   "outputs": [
    {
     "name": "stdout",
     "output_type": "stream",
     "text": [
      "Shape of X before SMOTE: (108066, 5)\n",
      "Shape of X after SMOTE: (200538, 5)\n",
      "\n",
      "Balance of positive and negative classes (%):\n"
     ]
    },
    {
     "data": {
      "text/plain": [
       "2    33.333333\n",
       "1    33.333333\n",
       "0    33.333333\n",
       "Name: class_, dtype: float64"
      ]
     },
     "execution_count": 11,
     "metadata": {},
     "output_type": "execute_result"
    }
   ],
   "source": [
    "from imblearn.over_sampling import SMOTE \n",
    "\n",
    "sm = SMOTE(random_state=42)\n",
    "\n",
    "X = DR_df.drop('class_', axis=1) # independent features\n",
    "y = DR_df['class_'] # Target\n",
    "\n",
    "X_sm, y_sm = sm.fit_resample(X, y)\n",
    "\n",
    "print(f'''Shape of X before SMOTE: {X.shape}\n",
    "Shape of X after SMOTE: {X_sm.shape}''')\n",
    "\n",
    "print('\\nBalance of positive and negative classes (%):')\n",
    "y_sm.value_counts(normalize=True) * 100"
   ]
  },
  {
   "cell_type": "code",
   "execution_count": 12,
   "metadata": {},
   "outputs": [
    {
     "data": {
      "image/png": "[encoded data removed]",
      "text/plain": [
       "<Figure size 432x288 with 1 Axes>"
      ]
     },
     "metadata": {},
     "output_type": "display_data"
    }
   ],
   "source": [
    "X_train, X_test, y_train, y_test = train_test_split(X_sm, y_sm, test_size=0.3, random_state=21, stratify=y_sm)\n",
    "\n",
    "# Setup arrays to store train and test accuracies\n",
    "neighbors = np.arange(1, 11)\n",
    "train_accuracy = np.empty(len(neighbors))\n",
    "test_accuracy = np.empty(len(neighbors))\n",
    "\n",
    "# Loop over different values of k\n",
    "for i, k in enumerate(neighbors):\n",
    "    # Setup a k-NN Classifier with k neighbors: knn\n",
    "    knn = KNC(n_neighbors=k)\n",
    "\n",
    "    # Fit the classifier to the training data\n",
    "    knn.fit(X_train, y_train)\n",
    "    \n",
    "    #Compute accuracy on the training set\n",
    "    train_accuracy[i] = knn.score(X_train, y_train)\n",
    "\n",
    "    #Compute accuracy on the testing set\n",
    "    test_accuracy[i] = knn.score(X_test, y_test)\n",
    "\n",
    "# Generate plot\n",
    "plt.title('k-NN: Varying Number of Neighbors')\n",
    "plt.plot(neighbors, test_accuracy, label = 'Testing Accuracy')\n",
    "plt.plot(neighbors, train_accuracy, label = 'Training Accuracy')\n",
    "plt.legend()\n",
    "plt.xlabel('Number of Neighbors')\n",
    "plt.ylabel('Accuracy')\n",
    "plt.show()"
   ]
  },
  {
   "cell_type": "code",
   "execution_count": 13,
   "metadata": {},
   "outputs": [],
   "source": [
    "knn = KNC(n_neighbors = 4)\n",
    "knn.fit(X_train, y_train)\n",
    "y_pred = knn.predict(X_test)"
   ]
  },
  {
   "cell_type": "code",
   "execution_count": 14,
   "metadata": {},
   "outputs": [
    {
     "name": "stdout",
     "output_type": "stream",
     "text": [
      "Accuracy = Fraction of correct predictions\n",
      "Test set accuracy:\n",
      "0.9003191383265184\n"
     ]
    }
   ],
   "source": [
    "# Accuracy score\n",
    "score = knn.score(X_test, y_test)\n",
    "print(\"Accuracy = Fraction of correct predictions\")\n",
    "print(\"Test set accuracy:\\n{}\".format(score))"
   ]
  },
  {
   "cell_type": "code",
   "execution_count": 15,
   "metadata": {},
   "outputs": [
    {
     "name": "stdout",
     "output_type": "stream",
     "text": [
      "[[17994  1026  1034]\n",
      " [  789 18889   376]\n",
      " [ 1318  1454 17282]]\n"
     ]
    }
   ],
   "source": [
    "# Computing Confusion Matrix\n",
    "from sklearn.metrics import confusion_matrix\n",
    "print(confusion_matrix(y_test, y_pred))"
   ]
  },
  {
   "cell_type": "code",
   "execution_count": 16,
   "metadata": {},
   "outputs": [
    {
     "name": "stdout",
     "output_type": "stream",
     "text": [
      "              precision    recall  f1-score   support\n",
      "\n",
      "           0       0.90      0.90      0.90     20054\n",
      "           1       0.88      0.94      0.91     20054\n",
      "           2       0.92      0.86      0.89     20054\n",
      "\n",
      "    accuracy                           0.90     60162\n",
      "   macro avg       0.90      0.90      0.90     60162\n",
      "weighted avg       0.90      0.90      0.90     60162\n",
      "\n"
     ]
    }
   ],
   "source": [
    "from sklearn.metrics import classification_report\n",
    "print(classification_report(y_test, y_pred))"
   ]
  }
 ],
 "metadata": {
  "kernelspec": {
   "display_name": "Python 3",
   "language": "python",
   "name": "python3"
  },
  "language_info": {
   "codemirror_mode": {
    "name": "ipython",
    "version": 3
   },
   "file_extension": ".py",
   "mimetype": "text/x-python",
   "name": "python",
   "nbconvert_exporter": "python",
   "pygments_lexer": "ipython3",
   "version": "3.8.5"
  }
 },
 "nbformat": 4,
 "nbformat_minor": 4
}
