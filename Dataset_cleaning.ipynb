{
 "cells": [
  {
   "cell_type": "code",
   "execution_count": 1,
   "metadata": {},
   "outputs": [],
   "source": [
    "import numpy as np\n",
    "import pandas as pd\n",
    "sdss_dr12 = pd.read_csv('original_csv/SDSS_DR12.csv')\n",
    "sdss_dr14 = pd.read_csv('original_csv/SDSS_DR14.csv')\n",
    "sdss_dr16 = pd.read_csv('original_csv/SDSS_DR16.csv')"
   ]
  },
  {
   "cell_type": "code",
   "execution_count": 2,
   "metadata": {},
   "outputs": [],
   "source": [
    "# Drop the null rows\n",
    "sdss_dr12 = sdss_dr12.dropna()\n",
    "sdss_dr14 = sdss_dr14.dropna()\n",
    "sdss_dr16 = sdss_dr16.dropna()"
   ]
  },
  {
   "cell_type": "code",
   "execution_count": 3,
   "metadata": {},
   "outputs": [],
   "source": [
    "# Delete repeated rows\n",
    "sdss_dr12 = sdss_dr12.drop_duplicates(subset=['objid'])\n",
    "sdss_dr14 = sdss_dr12.drop_duplicates(subset=['objid'])\n",
    "sdss_dr16 = sdss_dr12.drop_duplicates(subset=['objid'])"
   ]
  },
  {
   "cell_type": "code",
   "execution_count": 4,
   "metadata": {},
   "outputs": [],
   "source": [
    "# Change columns names\n",
    "sdss_dr12 = sdss_dr12.rename(columns={'objid':'objid_','ra':'ra_','dec':'dec_','u':'u_','g':'g_','r':'r_','i':'i_','z':'z_','run':'run_','rerun':'rerun_','camcol':'camcol_','field':'field_','specobjid':'specobjid_','class':'class_','redshift':'redshift_','plate':'plate_','mjd':'mjd_','fiberid':'fiberid_'})\n",
    "sdss_dr14 = sdss_dr14.rename(columns={'objid':'objid_','ra':'ra_','dec':'dec_','u':'u_','g':'g_','r':'r_','i':'i_','z':'z_','run':'run_','rerun':'rerun_','camcol':'camcol_','field':'field_','specobjid':'specobjid_','class':'class_','redshift':'redshift_','plate':'plate_','mjd':'mjd_','fiberid':'fiberid_'})\n",
    "sdss_dr16 = sdss_dr16.rename(columns={'objid':'objid_','ra':'ra_','dec':'dec_','u':'u_','g':'g_','r':'r_','i':'i_','z':'z_','run':'run_','rerun':'rerun_','camcol':'camcol_','field':'field_','specobjid':'specobjid_','class':'class_','redshift':'redshift_','plate':'plate_','mjd':'mjd_','fiberid':'fiberid_'})\n"
   ]
  },
  {
   "cell_type": "code",
   "execution_count": 5,
   "metadata": {},
   "outputs": [],
   "source": [
    "# Export DataFrames to csv file\n",
    "sdss_dr12.to_csv(path_or_buf='Resources/sdss_dr12.csv', index=False)\n",
    "sdss_dr14.to_csv(path_or_buf='Resources/sdss_dr14.csv', index=False)\n",
    "sdss_dr16.to_csv(path_or_buf='Resources/sdss_dr16.csv', index=False)"
   ]
  },
  {
   "cell_type": "code",
   "execution_count": null,
   "metadata": {},
   "outputs": [],
   "source": []
  }
 ],
 "metadata": {
  "kernelspec": {
   "display_name": "PythonData",
   "language": "python",
   "name": "pythondata"
  },
  "language_info": {
   "codemirror_mode": {
    "name": "ipython",
    "version": 3
   },
   "file_extension": ".py",
   "mimetype": "text/x-python",
   "name": "python",
   "nbconvert_exporter": "python",
   "pygments_lexer": "ipython3",
   "version": "3.7.9"
  }
 },
 "nbformat": 4,
 "nbformat_minor": 4
}
