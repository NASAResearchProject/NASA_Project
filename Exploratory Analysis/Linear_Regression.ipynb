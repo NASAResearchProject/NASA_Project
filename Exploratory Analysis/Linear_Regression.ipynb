{
 "cells": [
  {
   "cell_type": "markdown",
   "metadata": {},
   "source": [
    "Logistic regression is used in classification problems, and works for binary classification, that is, when we have two possible labels for the target variable. This is not the case for us. Our `class_` feature has three possible values, star, galaxy, and quasar. We will need to implement a multinomial logistic regression model. The multinomial logistic regression algorithm is an extension to the logistic regression model that involves changing the loss function to cross-entropy loss and predict probability distribution to a multinomial probability distribution to natively support multi-class classification problems.\n",
    "\n",
    "The approach involves changing the logistic regression model to support the prediction of multiple class labels directly. Specifically, to predict the probability that an input example belongs to each known class label."
   ]
  },
  {
   "cell_type": "code",
   "execution_count": 1,
   "metadata": {},
   "outputs": [
    {
     "data": {
      "text/html": [
       "<div>\n",
       "<style scoped>\n",
       "    .dataframe tbody tr th:only-of-type {\n",
       "        vertical-align: middle;\n",
       "    }\n",
       "\n",
       "    .dataframe tbody tr th {\n",
       "        vertical-align: top;\n",
       "    }\n",
       "\n",
       "    .dataframe thead th {\n",
       "        text-align: right;\n",
       "    }\n",
       "</style>\n",
       "<table border=\"1\" class=\"dataframe\">\n",
       "  <thead>\n",
       "    <tr style=\"text-align: right;\">\n",
       "      <th></th>\n",
       "      <th>class_</th>\n",
       "      <th>u_</th>\n",
       "      <th>g_</th>\n",
       "      <th>r_</th>\n",
       "      <th>i_</th>\n",
       "      <th>z_</th>\n",
       "      <th>redshift_</th>\n",
       "    </tr>\n",
       "  </thead>\n",
       "  <tbody>\n",
       "    <tr>\n",
       "      <th>0</th>\n",
       "      <td>2</td>\n",
       "      <td>-1.067720</td>\n",
       "      <td>-1.123867</td>\n",
       "      <td>-0.878764</td>\n",
       "      <td>-0.036867</td>\n",
       "      <td>-0.558164</td>\n",
       "      <td>-0.713568</td>\n",
       "    </tr>\n",
       "    <tr>\n",
       "      <th>1</th>\n",
       "      <td>2</td>\n",
       "      <td>-0.030126</td>\n",
       "      <td>-0.487516</td>\n",
       "      <td>-0.660599</td>\n",
       "      <td>-0.035391</td>\n",
       "      <td>-0.668300</td>\n",
       "      <td>-0.713270</td>\n",
       "    </tr>\n",
       "    <tr>\n",
       "      <th>2</th>\n",
       "      <td>2</td>\n",
       "      <td>-0.429575</td>\n",
       "      <td>-0.452186</td>\n",
       "      <td>-0.317882</td>\n",
       "      <td>-0.009295</td>\n",
       "      <td>-0.131955</td>\n",
       "      <td>-0.713123</td>\n",
       "    </tr>\n",
       "    <tr>\n",
       "      <th>3</th>\n",
       "      <td>2</td>\n",
       "      <td>0.489953</td>\n",
       "      <td>0.523653</td>\n",
       "      <td>0.409810</td>\n",
       "      <td>0.026467</td>\n",
       "      <td>0.430269</td>\n",
       "      <td>-0.713607</td>\n",
       "    </tr>\n",
       "    <tr>\n",
       "      <th>4</th>\n",
       "      <td>2</td>\n",
       "      <td>-1.644429</td>\n",
       "      <td>-1.964525</td>\n",
       "      <td>-2.027211</td>\n",
       "      <td>-0.111112</td>\n",
       "      <td>-1.892926</td>\n",
       "      <td>-0.713444</td>\n",
       "    </tr>\n",
       "  </tbody>\n",
       "</table>\n",
       "</div>"
      ],
      "text/plain": [
       "   class_        u_        g_        r_        i_        z_  redshift_\n",
       "0       2 -1.067720 -1.123867 -0.878764 -0.036867 -0.558164  -0.713568\n",
       "1       2 -0.030126 -0.487516 -0.660599 -0.035391 -0.668300  -0.713270\n",
       "2       2 -0.429575 -0.452186 -0.317882 -0.009295 -0.131955  -0.713123\n",
       "3       2  0.489953  0.523653  0.409810  0.026467  0.430269  -0.713607\n",
       "4       2 -1.644429 -1.964525 -2.027211 -0.111112 -1.892926  -0.713444"
      ]
     },
     "execution_count": 1,
     "metadata": {},
     "output_type": "execute_result"
    }
   ],
   "source": [
    "# import dependecies\n",
    "import pandas as pd\n",
    "import numpy as np\n",
    "from numpy import mean\n",
    "from numpy import std\n",
    "from sklearn.model_selection import cross_val_score\n",
    "from sklearn.model_selection import RepeatedStratifiedKFold\n",
    "from sklearn.linear_model import LinearRegression\n",
    "\n",
    "# import dataset\n",
    "DR_df = pd.read_csv(\"../Resources/DR_complete_clean_scaled.csv\")\n",
    "DR_df.head()"
   ]
  },
  {
   "cell_type": "code",
   "execution_count": 3,
   "metadata": {},
   "outputs": [
    {
     "name": "stdout",
     "output_type": "stream",
     "text": [
      "coefficient of determination: 0.0026964603242726204\n"
     ]
    }
   ],
   "source": [
    "X = np.array(DR_df['redshift_']).reshape((-1, 1)) # independent feature\n",
    "y = np.array(DR_df['class_']) # Target\n",
    "\n",
    "# define the multinomial linear regression model\n",
    "model = LinearRegression().fit(X, y)\n",
    "r_sq = model.score(X, y)\n",
    "\n",
    "# report the model performance\n",
    "print('coefficient of determination:', r_sq)"
   ]
  },
  {
   "cell_type": "code",
   "execution_count": 4,
   "metadata": {},
   "outputs": [
    {
     "name": "stdout",
     "output_type": "stream",
     "text": [
      "coefficient of determination: 0.0836319348775989\n"
     ]
    }
   ],
   "source": [
    "X = np.array(DR_df['u_']).reshape((-1, 1)) # independent feature\n",
    "\n",
    "# define the multinomial linear regression model\n",
    "model = LinearRegression().fit(X, y)\n",
    "r_sq = model.score(X, y)\n",
    "\n",
    "# report the model performance\n",
    "print('coefficient of determination:', r_sq)"
   ]
  },
  {
   "cell_type": "code",
   "execution_count": 5,
   "metadata": {},
   "outputs": [
    {
     "name": "stdout",
     "output_type": "stream",
     "text": [
      "coefficient of determination: 0.055502689913690895\n"
     ]
    }
   ],
   "source": [
    "X = np.array(DR_df['g_']).reshape((-1, 1)) # independent feature\n",
    "\n",
    "# define the multinomial linear regression model\n",
    "model = LinearRegression().fit(X, y)\n",
    "r_sq = model.score(X, y)\n",
    "\n",
    "# report the model performance\n",
    "print('coefficient of determination:', r_sq)"
   ]
  },
  {
   "cell_type": "code",
   "execution_count": 6,
   "metadata": {},
   "outputs": [
    {
     "name": "stdout",
     "output_type": "stream",
     "text": [
      "coefficient of determination: 0.007710028984193706\n"
     ]
    }
   ],
   "source": [
    "X = np.array(DR_df['r_']).reshape((-1, 1)) # independent feature\n",
    "\n",
    "# define the multinomial linear regression model\n",
    "model = LinearRegression().fit(X, y)\n",
    "r_sq = model.score(X, y)\n",
    "\n",
    "# report the model performance\n",
    "print('coefficient of determination:', r_sq)"
   ]
  },
  {
   "cell_type": "code",
   "execution_count": 7,
   "metadata": {},
   "outputs": [
    {
     "name": "stdout",
     "output_type": "stream",
     "text": [
      "coefficient of determination: 2.5637780663889664e-05\n"
     ]
    }
   ],
   "source": [
    "X = np.array(DR_df['i_']).reshape((-1, 1)) # independent feature\n",
    "\n",
    "# define the multinomial linear regression model\n",
    "model = LinearRegression().fit(X, y)\n",
    "r_sq = model.score(X, y)\n",
    "\n",
    "# report the model performance\n",
    "print('coefficient of determination:', r_sq)"
   ]
  },
  {
   "cell_type": "code",
   "execution_count": 8,
   "metadata": {},
   "outputs": [
    {
     "name": "stdout",
     "output_type": "stream",
     "text": [
      "coefficient of determination: 0.002572019270146053\n"
     ]
    }
   ],
   "source": [
    "X = np.array(DR_df['z_']).reshape((-1, 1)) # independent feature\n",
    "\n",
    "# define the multinomial linear regression model\n",
    "model = LinearRegression().fit(X, y)\n",
    "r_sq = model.score(X, y)\n",
    "\n",
    "# report the model performance\n",
    "print('coefficient of determination:', r_sq)"
   ]
  }
 ],
 "metadata": {
  "kernelspec": {
   "display_name": "Python 3",
   "language": "python",
   "name": "python3"
  },
  "language_info": {
   "codemirror_mode": {
    "name": "ipython",
    "version": 3
   },
   "file_extension": ".py",
   "mimetype": "text/x-python",
   "name": "python",
   "nbconvert_exporter": "python",
   "pygments_lexer": "ipython3",
   "version": "3.8.5"
  }
 },
 "nbformat": 4,
 "nbformat_minor": 4
}
